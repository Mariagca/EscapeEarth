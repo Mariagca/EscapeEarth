{
  "nbformat": 4,
  "nbformat_minor": 0,
  "metadata": {
    "colab": {
      "name": "-What are TargetPixelFile objects?.ipynb",
      "provenance": [],
      "authorship_tag": "ABX9TyPgXfiqsXUYL5t5yq7Wgtfx",
      "include_colab_link": true
    },
    "kernelspec": {
      "name": "python3",
      "display_name": "Python 3"
    }
  },
  "cells": [
    {
      "cell_type": "markdown",
      "metadata": {
        "id": "view-in-github",
        "colab_type": "text"
      },
      "source": [
        "<a href=\"https://colab.research.google.com/github/Mariagca/EscapeEarth/blob/main/Interns/Maria/_What_are_TargetPixelFile_objects%3F.ipynb\" target=\"_parent\"><img src=\"https://colab.research.google.com/assets/colab-badge.svg\" alt=\"Open In Colab\"/></a>"
      ]
    },
    {
      "cell_type": "code",
      "metadata": {
        "id": "MmaNKqSf3qhh",
        "outputId": "aa20eb4b-63ec-4918-980b-4315420861aa",
        "colab": {
          "base_uri": "https://localhost:8080/",
          "height": 1000
        }
      },
      "source": [
        "!pip install lightkurve"
      ],
      "execution_count": null,
      "outputs": [
        {
          "output_type": "stream",
          "text": [
            "Collecting lightkurve\n",
            "\u001b[?25l  Downloading https://files.pythonhosted.org/packages/6b/cb/a2917205537f6bad53b109365e09abe946afbf5d8a4e1f46c3f75abcb398/lightkurve-1.11.3-py3-none-any.whl (515kB)\n",
            "\r\u001b[K     |▋                               | 10kB 16.3MB/s eta 0:00:01\r\u001b[K     |█▎                              | 20kB 2.5MB/s eta 0:00:01\r\u001b[K     |██                              | 30kB 3.4MB/s eta 0:00:01\r\u001b[K     |██▌                             | 40kB 3.7MB/s eta 0:00:01\r\u001b[K     |███▏                            | 51kB 3.2MB/s eta 0:00:01\r\u001b[K     |███▉                            | 61kB 3.6MB/s eta 0:00:01\r\u001b[K     |████▌                           | 71kB 4.0MB/s eta 0:00:01\r\u001b[K     |█████                           | 81kB 4.1MB/s eta 0:00:01\r\u001b[K     |█████▊                          | 92kB 4.2MB/s eta 0:00:01\r\u001b[K     |██████▍                         | 102kB 4.3MB/s eta 0:00:01\r\u001b[K     |███████                         | 112kB 4.3MB/s eta 0:00:01\r\u001b[K     |███████▋                        | 122kB 4.3MB/s eta 0:00:01\r\u001b[K     |████████▎                       | 133kB 4.3MB/s eta 0:00:01\r\u001b[K     |█████████                       | 143kB 4.3MB/s eta 0:00:01\r\u001b[K     |█████████▌                      | 153kB 4.3MB/s eta 0:00:01\r\u001b[K     |██████████▏                     | 163kB 4.3MB/s eta 0:00:01\r\u001b[K     |██████████▉                     | 174kB 4.3MB/s eta 0:00:01\r\u001b[K     |███████████▌                    | 184kB 4.3MB/s eta 0:00:01\r\u001b[K     |████████████                    | 194kB 4.3MB/s eta 0:00:01\r\u001b[K     |████████████▊                   | 204kB 4.3MB/s eta 0:00:01\r\u001b[K     |█████████████▍                  | 215kB 4.3MB/s eta 0:00:01\r\u001b[K     |██████████████                  | 225kB 4.3MB/s eta 0:00:01\r\u001b[K     |██████████████▋                 | 235kB 4.3MB/s eta 0:00:01\r\u001b[K     |███████████████▎                | 245kB 4.3MB/s eta 0:00:01\r\u001b[K     |████████████████                | 256kB 4.3MB/s eta 0:00:01\r\u001b[K     |████████████████▌               | 266kB 4.3MB/s eta 0:00:01\r\u001b[K     |█████████████████▏              | 276kB 4.3MB/s eta 0:00:01\r\u001b[K     |█████████████████▉              | 286kB 4.3MB/s eta 0:00:01\r\u001b[K     |██████████████████▌             | 296kB 4.3MB/s eta 0:00:01\r\u001b[K     |███████████████████             | 307kB 4.3MB/s eta 0:00:01\r\u001b[K     |███████████████████▊            | 317kB 4.3MB/s eta 0:00:01\r\u001b[K     |████████████████████▍           | 327kB 4.3MB/s eta 0:00:01\r\u001b[K     |█████████████████████           | 337kB 4.3MB/s eta 0:00:01\r\u001b[K     |█████████████████████▋          | 348kB 4.3MB/s eta 0:00:01\r\u001b[K     |██████████████████████▎         | 358kB 4.3MB/s eta 0:00:01\r\u001b[K     |███████████████████████         | 368kB 4.3MB/s eta 0:00:01\r\u001b[K     |███████████████████████▌        | 378kB 4.3MB/s eta 0:00:01\r\u001b[K     |████████████████████████▏       | 389kB 4.3MB/s eta 0:00:01\r\u001b[K     |████████████████████████▉       | 399kB 4.3MB/s eta 0:00:01\r\u001b[K     |█████████████████████████▌      | 409kB 4.3MB/s eta 0:00:01\r\u001b[K     |██████████████████████████      | 419kB 4.3MB/s eta 0:00:01\r\u001b[K     |██████████████████████████▊     | 430kB 4.3MB/s eta 0:00:01\r\u001b[K     |███████████████████████████▍    | 440kB 4.3MB/s eta 0:00:01\r\u001b[K     |████████████████████████████    | 450kB 4.3MB/s eta 0:00:01\r\u001b[K     |████████████████████████████▋   | 460kB 4.3MB/s eta 0:00:01\r\u001b[K     |█████████████████████████████▎  | 471kB 4.3MB/s eta 0:00:01\r\u001b[K     |██████████████████████████████  | 481kB 4.3MB/s eta 0:00:01\r\u001b[K     |██████████████████████████████▌ | 491kB 4.3MB/s eta 0:00:01\r\u001b[K     |███████████████████████████████▏| 501kB 4.3MB/s eta 0:00:01\r\u001b[K     |███████████████████████████████▉| 512kB 4.3MB/s eta 0:00:01\r\u001b[K     |████████████████████████████████| 522kB 4.3MB/s \n",
            "\u001b[?25hRequirement already satisfied: pandas in /usr/local/lib/python3.6/dist-packages (from lightkurve) (1.1.2)\n",
            "Requirement already satisfied: numpy>=1.11 in /usr/local/lib/python3.6/dist-packages (from lightkurve) (1.18.5)\n",
            "Collecting fbpca>=1.0\n",
            "  Downloading https://files.pythonhosted.org/packages/a7/a5/2085d0645a4bb4f0b606251b0b7466c61326e4a471d445c1c3761a2d07bc/fbpca-1.0.tar.gz\n",
            "Requirement already satisfied: patsy>=0.5.1 in /usr/local/lib/python3.6/dist-packages (from lightkurve) (0.5.1)\n",
            "Requirement already satisfied: requests in /usr/local/lib/python3.6/dist-packages (from lightkurve) (2.23.0)\n",
            "Requirement already satisfied: bs4 in /usr/local/lib/python3.6/dist-packages (from lightkurve) (0.0.1)\n",
            "Collecting astroquery>=0.3.9\n",
            "\u001b[?25l  Downloading https://files.pythonhosted.org/packages/1b/f8/4690523783691ed816b3469c3ec611af3798594d37ade510dd918d59f57e/astroquery-0.4.1.tar.gz (6.5MB)\n",
            "\u001b[K     |████████████████████████████████| 6.5MB 5.0MB/s \n",
            "\u001b[?25hCollecting oktopus\n",
            "  Downloading https://files.pythonhosted.org/packages/2d/6e/7b7e11442ff70286c22614d200f6145f83528dc6c99fec0982665e25c8d3/oktopus-0.1.2.tar.gz\n",
            "Collecting uncertainties\n",
            "\u001b[?25l  Downloading https://files.pythonhosted.org/packages/b0/e0/fc200da8190729dcb685ae4877ed6936d31d64aeccb8cc355d9ec982681d/uncertainties-3.1.4-py2.py3-none-any.whl (246kB)\n",
            "\u001b[K     |████████████████████████████████| 256kB 40.6MB/s \n",
            "\u001b[?25hRequirement already satisfied: matplotlib>=1.5.3 in /usr/local/lib/python3.6/dist-packages (from lightkurve) (3.2.2)\n",
            "Requirement already satisfied: astropy>=1.3 in /usr/local/lib/python3.6/dist-packages (from lightkurve) (4.0.1.post1)\n",
            "Requirement already satisfied: tqdm>=4.25.0 in /usr/local/lib/python3.6/dist-packages (from lightkurve) (4.41.1)\n",
            "Collecting scipy!=1.4.0,!=1.4.1,>=0.19.0\n",
            "\u001b[?25l  Downloading https://files.pythonhosted.org/packages/8a/14/d0475ceeaa047f3eae2dc7597c3d40228e1d5beee42c1730f3c96ffb5526/scipy-1.5.3-cp36-cp36m-manylinux1_x86_64.whl (25.9MB)\n",
            "\u001b[K     |████████████████████████████████| 25.9MB 1.7MB/s \n",
            "\u001b[?25hRequirement already satisfied: python-dateutil>=2.7.3 in /usr/local/lib/python3.6/dist-packages (from pandas->lightkurve) (2.8.1)\n",
            "Requirement already satisfied: pytz>=2017.2 in /usr/local/lib/python3.6/dist-packages (from pandas->lightkurve) (2018.9)\n",
            "Requirement already satisfied: six in /usr/local/lib/python3.6/dist-packages (from patsy>=0.5.1->lightkurve) (1.15.0)\n",
            "Requirement already satisfied: urllib3!=1.25.0,!=1.25.1,<1.26,>=1.21.1 in /usr/local/lib/python3.6/dist-packages (from requests->lightkurve) (1.24.3)\n",
            "Requirement already satisfied: certifi>=2017.4.17 in /usr/local/lib/python3.6/dist-packages (from requests->lightkurve) (2020.6.20)\n",
            "Requirement already satisfied: chardet<4,>=3.0.2 in /usr/local/lib/python3.6/dist-packages (from requests->lightkurve) (3.0.4)\n",
            "Requirement already satisfied: idna<3,>=2.5 in /usr/local/lib/python3.6/dist-packages (from requests->lightkurve) (2.10)\n",
            "Requirement already satisfied: beautifulsoup4 in /usr/local/lib/python3.6/dist-packages (from bs4->lightkurve) (4.6.3)\n",
            "Collecting keyring>=4.0\n",
            "  Downloading https://files.pythonhosted.org/packages/e4/ed/7be20815f248b0d6aae406783c2bee392640924623c4e17b50ca90c7f74d/keyring-21.4.0-py3-none-any.whl\n",
            "Requirement already satisfied: html5lib>=0.999 in /usr/local/lib/python3.6/dist-packages (from astroquery>=0.3.9->lightkurve) (1.0.1)\n",
            "Requirement already satisfied: autograd in /usr/local/lib/python3.6/dist-packages (from oktopus->lightkurve) (1.3)\n",
            "Requirement already satisfied: future in /usr/local/lib/python3.6/dist-packages (from uncertainties->lightkurve) (0.16.0)\n",
            "Requirement already satisfied: pyparsing!=2.0.4,!=2.1.2,!=2.1.6,>=2.0.1 in /usr/local/lib/python3.6/dist-packages (from matplotlib>=1.5.3->lightkurve) (2.4.7)\n",
            "Requirement already satisfied: cycler>=0.10 in /usr/local/lib/python3.6/dist-packages (from matplotlib>=1.5.3->lightkurve) (0.10.0)\n",
            "Requirement already satisfied: kiwisolver>=1.0.1 in /usr/local/lib/python3.6/dist-packages (from matplotlib>=1.5.3->lightkurve) (1.2.0)\n",
            "Collecting SecretStorage>=3; sys_platform == \"linux\"\n",
            "  Downloading https://files.pythonhosted.org/packages/c3/50/8a02cad020e949e6d7105f5f4530d41e3febcaa5b73f8f2148aacb3aeba5/SecretStorage-3.1.2-py3-none-any.whl\n",
            "Requirement already satisfied: importlib-metadata; python_version < \"3.8\" in /usr/local/lib/python3.6/dist-packages (from keyring>=4.0->astroquery>=0.3.9->lightkurve) (2.0.0)\n",
            "Collecting jeepney>=0.4.2; sys_platform == \"linux\"\n",
            "  Downloading https://files.pythonhosted.org/packages/79/31/2e8d42727595faf224c6dbb748c32b192e212f25495fe841fb7ce8e168b8/jeepney-0.4.3-py3-none-any.whl\n",
            "Requirement already satisfied: webencodings in /usr/local/lib/python3.6/dist-packages (from html5lib>=0.999->astroquery>=0.3.9->lightkurve) (0.5.1)\n",
            "Collecting cryptography\n",
            "\u001b[?25l  Downloading https://files.pythonhosted.org/packages/33/62/30f6936941d87a5ed72efb24249437824f6b2c953901245b58c91fde2f27/cryptography-3.1.1-cp35-abi3-manylinux2010_x86_64.whl (2.6MB)\n",
            "\u001b[K     |████████████████████████████████| 2.6MB 41.4MB/s \n",
            "\u001b[?25hRequirement already satisfied: zipp>=0.5 in /usr/local/lib/python3.6/dist-packages (from importlib-metadata; python_version < \"3.8\"->keyring>=4.0->astroquery>=0.3.9->lightkurve) (3.2.0)\n",
            "Requirement already satisfied: cffi!=1.11.3,>=1.8 in /usr/local/lib/python3.6/dist-packages (from cryptography->SecretStorage>=3; sys_platform == \"linux\"->keyring>=4.0->astroquery>=0.3.9->lightkurve) (1.14.3)\n",
            "Requirement already satisfied: pycparser in /usr/local/lib/python3.6/dist-packages (from cffi!=1.11.3,>=1.8->cryptography->SecretStorage>=3; sys_platform == \"linux\"->keyring>=4.0->astroquery>=0.3.9->lightkurve) (2.20)\n",
            "Building wheels for collected packages: fbpca, astroquery, oktopus\n",
            "  Building wheel for fbpca (setup.py) ... \u001b[?25l\u001b[?25hdone\n",
            "  Created wheel for fbpca: filename=fbpca-1.0-cp36-none-any.whl size=11376 sha256=491b621429398b7934e03f6a6efafc44d405e7801e9809a4ecf86097a5c9943d\n",
            "  Stored in directory: /root/.cache/pip/wheels/53/a2/dd/9b66cf53dbc58cec1e613d216689e5fa946d3e7805c30f60dc\n",
            "  Building wheel for astroquery (setup.py) ... \u001b[?25l\u001b[?25hdone\n",
            "  Created wheel for astroquery: filename=astroquery-0.4.1-cp36-none-any.whl size=3831873 sha256=347ae69df114f239b3ac5131854e8773bc48a7e5d6999ef53c59cb5436811830\n",
            "  Stored in directory: /root/.cache/pip/wheels/88/f8/b7/a254cd96e808f708bc0b7d755a8e095c56fbbe94099d7b464f\n",
            "  Building wheel for oktopus (setup.py) ... \u001b[?25l\u001b[?25hdone\n",
            "  Created wheel for oktopus: filename=oktopus-0.1.2-cp36-none-any.whl size=12781 sha256=ef0c13169877872785e9cb6c14fb415e472ecce9b9e613adc705fb68602729ca\n",
            "  Stored in directory: /root/.cache/pip/wheels/9b/90/81/098fc66ee56166d63c9a8fc0a9672ae7b3423396a588ec952a\n",
            "Successfully built fbpca astroquery oktopus\n",
            "\u001b[31mERROR: tensorflow 2.3.0 has requirement scipy==1.4.1, but you'll have scipy 1.5.3 which is incompatible.\u001b[0m\n",
            "\u001b[31mERROR: albumentations 0.1.12 has requirement imgaug<0.2.7,>=0.2.5, but you'll have imgaug 0.2.9 which is incompatible.\u001b[0m\n",
            "Installing collected packages: fbpca, cryptography, jeepney, SecretStorage, keyring, astroquery, scipy, oktopus, uncertainties, lightkurve\n",
            "  Found existing installation: scipy 1.4.1\n",
            "    Uninstalling scipy-1.4.1:\n",
            "      Successfully uninstalled scipy-1.4.1\n",
            "Successfully installed SecretStorage-3.1.2 astroquery-0.4.1 cryptography-3.1.1 fbpca-1.0 jeepney-0.4.3 keyring-21.4.0 lightkurve-1.11.3 oktopus-0.1.2 scipy-1.5.3 uncertainties-3.1.4\n"
          ],
          "name": "stdout"
        }
      ]
    },
    {
      "cell_type": "code",
      "metadata": {
        "id": "wDYQwODu68Rf"
      },
      "source": [
        "from lightkurve import search_targetpixelfile\n",
        "tpf = search_targetpixelfile('KIC 6922244', quarter=4).download()"
      ],
      "execution_count": null,
      "outputs": []
    },
    {
      "cell_type": "code",
      "metadata": {
        "id": "jd-Pvge37sY4",
        "outputId": "29f13004-04bc-45c4-8f5a-dbffd4dd9c3c",
        "colab": {
          "base_uri": "https://localhost:8080/",
          "height": 34
        }
      },
      "source": [
        "\n",
        "tpf"
      ],
      "execution_count": null,
      "outputs": [
        {
          "output_type": "execute_result",
          "data": {
            "text/plain": [
              "KeplerTargetPixelFile Object (ID: 6922244)"
            ]
          },
          "metadata": {
            "tags": []
          },
          "execution_count": 4
        }
      ]
    },
    {
      "cell_type": "code",
      "metadata": {
        "id": "3CpvfwmG7ypd",
        "outputId": "0f95ef11-fdf8-48fc-ae18-1a38a5bc937e",
        "colab": {
          "base_uri": "https://localhost:8080/",
          "height": 34
        }
      },
      "source": [
        "\n",
        "tpf.quarter"
      ],
      "execution_count": null,
      "outputs": [
        {
          "output_type": "execute_result",
          "data": {
            "text/plain": [
              "4"
            ]
          },
          "metadata": {
            "tags": []
          },
          "execution_count": 6
        }
      ]
    },
    {
      "cell_type": "code",
      "metadata": {
        "id": "OrBuMlDW788y",
        "outputId": "78084918-4743-4484-b0d0-35ac3f6bf0b2",
        "colab": {
          "base_uri": "https://localhost:8080/",
          "height": 37
        }
      },
      "source": [
        "tpf.mission"
      ],
      "execution_count": null,
      "outputs": [
        {
          "output_type": "execute_result",
          "data": {
            "application/vnd.google.colaboratory.intrinsic+json": {
              "type": "string"
            },
            "text/plain": [
              "'Kepler'"
            ]
          },
          "metadata": {
            "tags": []
          },
          "execution_count": 7
        }
      ]
    },
    {
      "cell_type": "code",
      "metadata": {
        "id": "R8MfNvAY9C4T",
        "outputId": "d67a563a-3e25-4140-ce9b-9c9296667fda",
        "colab": {
          "base_uri": "https://localhost:8080/",
          "height": 51
        }
      },
      "source": [
        "tpf.time"
      ],
      "execution_count": null,
      "outputs": [
        {
          "output_type": "execute_result",
          "data": {
            "text/plain": [
              "array([352.37632485, 352.39675805, 352.43762445, ..., 442.16263546,\n",
              "       442.18306983, 442.2035041 ])"
            ]
          },
          "metadata": {
            "tags": []
          },
          "execution_count": 8
        }
      ]
    },
    {
      "cell_type": "code",
      "metadata": {
        "id": "cHtU4wul9FxT",
        "outputId": "05a48846-ae51-42e0-83ef-2a9a90d2d8df",
        "colab": {
          "base_uri": "https://localhost:8080/",
          "height": 71
        }
      },
      "source": [
        "tpf.astropy_time"
      ],
      "execution_count": null,
      "outputs": [
        {
          "output_type": "execute_result",
          "data": {
            "text/plain": [
              "<Time object: scale='tdb' format='jd' value=[2455185.37632485 2455185.39675805 2455185.43762445 ... 2455275.16263546\n",
              " 2455275.18306983 2455275.2035041 ]>"
            ]
          },
          "metadata": {
            "tags": []
          },
          "execution_count": 10
        }
      ]
    },
    {
      "cell_type": "code",
      "metadata": {
        "id": "SXVKD18D9SRV",
        "outputId": "c28efbde-d5c9-49db-ac1a-f6f711e870c3",
        "colab": {
          "base_uri": "https://localhost:8080/",
          "height": 68
        }
      },
      "source": [
        "tpf.astropy_time.iso"
      ],
      "execution_count": null,
      "outputs": [
        {
          "output_type": "execute_result",
          "data": {
            "text/plain": [
              "array(['2009-12-19 21:01:54.467', '2009-12-19 21:31:19.895',\n",
              "       '2009-12-19 22:30:10.752', ..., '2010-03-19 15:54:11.704',\n",
              "       '2010-03-19 16:23:37.233', '2010-03-19 16:53:02.754'], dtype='<U23')"
            ]
          },
          "metadata": {
            "tags": []
          },
          "execution_count": 11
        }
      ]
    },
    {
      "cell_type": "code",
      "metadata": {
        "id": "UrPbuDeX9XIG",
        "outputId": "48015a1d-7ec3-4e8d-f685-4767d0ea7244",
        "colab": {
          "base_uri": "https://localhost:8080/",
          "height": 68
        }
      },
      "source": [
        "tpf.astropy_time.utc.iso"
      ],
      "execution_count": null,
      "outputs": [
        {
          "output_type": "execute_result",
          "data": {
            "text/plain": [
              "array(['2009-12-19 21:00:48.283', '2009-12-19 21:30:13.712',\n",
              "       '2009-12-19 22:29:04.569', ..., '2010-03-19 15:53:05.518',\n",
              "       '2010-03-19 16:22:31.048', '2010-03-19 16:51:56.568'], dtype='<U23')"
            ]
          },
          "metadata": {
            "tags": []
          },
          "execution_count": 12
        }
      ]
    },
    {
      "cell_type": "code",
      "metadata": {
        "id": "3eZ2vQAm9bmc",
        "outputId": "2ed8f488-4e03-4447-926a-ccb45679842a",
        "colab": {
          "base_uri": "https://localhost:8080/",
          "height": 34
        }
      },
      "source": [
        "tpf.flux.shape"
      ],
      "execution_count": null,
      "outputs": [
        {
          "output_type": "execute_result",
          "data": {
            "text/plain": [
              "(4116, 5, 5)"
            ]
          },
          "metadata": {
            "tags": []
          },
          "execution_count": 13
        }
      ]
    },
    {
      "cell_type": "code",
      "metadata": {
        "id": "iVESgGIQ9fxT",
        "outputId": "8c6dea92-0a35-4f5c-a8f0-9696449e8872",
        "colab": {
          "base_uri": "https://localhost:8080/",
          "height": 420
        }
      },
      "source": [
        "%matplotlib inline\n",
        "tpf.plot(frame=0);"
      ],
      "execution_count": null,
      "outputs": [
        {
          "output_type": "display_data",
          "data": {
            "image/png": "[encoded data removed]",
            "text/plain": [
              "<Figure size 848.5x400 with 2 Axes>"
            ]
          },
          "metadata": {
            "tags": []
          }
        }
      ]
    },
    {
      "cell_type": "code",
      "metadata": {
        "id": "bYdqFliY9zh_",
        "outputId": "37889216-ad72-4bc4-f513-d32e0f674d36",
        "colab": {
          "base_uri": "https://localhost:8080/",
          "height": 187
        }
      },
      "source": [
        "tpf.flux[0]"
      ],
      "execution_count": null,
      "outputs": [
        {
          "output_type": "execute_result",
          "data": {
            "text/plain": [
              "array([[          nan, 5.6079335e+00, 5.1491142e+01, 8.4241745e+01,\n",
              "        3.0221334e+01],\n",
              "       [4.4045620e+01, 7.6861229e+01, 1.1227759e+03, 3.2262029e+03,\n",
              "        4.5486777e+02],\n",
              "       [2.5911165e+01, 2.2907593e+02, 9.3626543e+03, 2.3606273e+04,\n",
              "        1.2087750e+03],\n",
              "       [4.0100830e+01, 8.8543927e+02, 1.7102118e+03, 2.6254871e+03,\n",
              "        7.0796606e+02],\n",
              "       [1.5719417e+02, 8.3713440e+02, 5.1021539e+02, 1.1501041e+03,\n",
              "        1.8313370e+02]], dtype=float32)"
            ]
          },
          "metadata": {
            "tags": []
          },
          "execution_count": 15
        }
      ]
    },
    {
      "cell_type": "code",
      "metadata": {
        "id": "UnUJJDh6-EJI",
        "outputId": "f390d1a4-4dc2-4f5f-a3cd-737cbd833a3a",
        "colab": {
          "base_uri": "https://localhost:8080/",
          "height": 102
        }
      },
      "source": [
        "tpf.pipeline_mask"
      ],
      "execution_count": null,
      "outputs": [
        {
          "output_type": "execute_result",
          "data": {
            "text/plain": [
              "array([[False, False, False, False, False],\n",
              "       [False, False,  True,  True, False],\n",
              "       [False, False,  True,  True, False],\n",
              "       [False,  True,  True,  True, False],\n",
              "       [False, False, False,  True, False]])"
            ]
          },
          "metadata": {
            "tags": []
          },
          "execution_count": 16
        }
      ]
    }
  ]
}